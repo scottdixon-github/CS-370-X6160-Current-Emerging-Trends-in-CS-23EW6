{
 "cells": [
  {
   "cell_type": "markdown",
   "metadata": {},
   "source": [
    "# Treasure Hunt Game Notebook\n",
    "\n",
    "## Read and Review Your Starter Code\n",
    "The theme of this project is a popular treasure hunt game in which the player needs to find the treasure before the pirate does. While you will not be developing the entire game, you will write the part of the game that represents the intelligent agent, which is a pirate in this case. The pirate will try to find the optimal path to the treasure using deep Q-learning. \n",
    "\n",
    "You have been provided with two Python classes and this notebook to help you with this assignment. The first class, TreasureMaze.py, represents the environment, which includes a maze object defined as a matrix. The second class, GameExperience.py, stores the episodes – that is, all the states that come in between the initial state and the terminal state. This is later used by the agent for learning by experience, called \"exploration\". This notebook shows how to play a game. Your task is to complete the deep Q-learning implementation for which a skeleton implementation has been provided. The code blocks you will need to complete has #TODO as a header.\n",
    "\n",
    "First, read and review the next few code and instruction blocks to understand the code that you have been given."
   ]
  },
  {
   "cell_type": "code",
   "execution_count": 1,
   "metadata": {},
   "outputs": [
    {
     "name": "stderr",
     "output_type": "stream",
     "text": [
      "Using TensorFlow backend.\n"
     ]
    }
   ],
   "source": [
    "from __future__ import print_function\n",
    "import os, sys, time, datetime, json, random\n",
    "import numpy as np\n",
    "from keras.models import Sequential\n",
    "from keras.layers.core import Dense, Activation\n",
    "from keras.optimizers import SGD , Adam, RMSprop\n",
    "from keras.layers.advanced_activations import PReLU\n",
    "import matplotlib.pyplot as plt\n",
    "from TreasureMaze import TreasureMaze\n",
    "from GameExperience import GameExperience\n",
    "%matplotlib inline"
   ]
  },
  {
   "cell_type": "markdown",
   "metadata": {},
   "source": [
    "The following code block contains an 8x8 matrix that will be used as a maze object:"
   ]
  },
  {
   "cell_type": "code",
   "execution_count": 2,
   "metadata": {},
   "outputs": [],
   "source": [
    "maze = np.array([\n",
    "    [ 1.,  0.,  1.,  1.,  1.,  1.,  1.,  1.],\n",
    "    [ 1.,  0.,  1.,  1.,  1.,  0.,  1.,  1.],\n",
    "    [ 1.,  1.,  1.,  1.,  0.,  1.,  0.,  1.],\n",
    "    [ 1.,  1.,  1.,  0.,  1.,  1.,  1.,  1.],\n",
    "    [ 1.,  1.,  0.,  1.,  1.,  1.,  1.,  1.],\n",
    "    [ 1.,  1.,  1.,  0.,  1.,  0.,  0.,  0.],\n",
    "    [ 1.,  1.,  1.,  0.,  1.,  1.,  1.,  1.],\n",
    "    [ 1.,  1.,  1.,  1.,  0.,  1.,  1.,  1.]\n",
    "])"
   ]
  },
  {
   "cell_type": "markdown",
   "metadata": {},
   "source": [
    "This helper function allows a visual representation of the maze object:"
   ]
  },
  {
   "cell_type": "code",
   "execution_count": 3,
   "metadata": {},
   "outputs": [],
   "source": [
    "def show(qmaze):\n",
    "    plt.grid('on')\n",
    "    nrows, ncols = qmaze.maze.shape\n",
    "    ax = plt.gca()\n",
    "    ax.set_xticks(np.arange(0.5, nrows, 1))\n",
    "    ax.set_yticks(np.arange(0.5, ncols, 1))\n",
    "    ax.set_xticklabels([])\n",
    "    ax.set_yticklabels([])\n",
    "    canvas = np.copy(qmaze.maze)\n",
    "    for row,col in qmaze.visited:\n",
    "        canvas[row,col] = 0.6\n",
    "    pirate_row, pirate_col, _ = qmaze.state\n",
    "    canvas[pirate_row, pirate_col] = 0.3   # pirate cell\n",
    "    canvas[nrows-1, ncols-1] = 0.9 # treasure cell\n",
    "    img = plt.imshow(canvas, interpolation='none', cmap='gray')\n",
    "    return img"
   ]
  },
  {
   "cell_type": "markdown",
   "metadata": {},
   "source": [
    "The pirate agent can move in four directions: left, right, up, and down. \n",
    "\n",
    "While the agent primarily learns by experience through exploitation, often, the agent can choose to explore the environment to find previously undiscovered paths. This is called \"exploration\" and is defined by epsilon. This value is typically a lower value such as 0.1, which means for every ten attempts, the agent will attempt to learn by experience nine times and will randomly explore a new path one time. You are encouraged to try various values for the exploration factor and see how the algorithm performs."
   ]
  },
  {
   "cell_type": "code",
   "execution_count": 4,
   "metadata": {},
   "outputs": [],
   "source": [
    "LEFT = 0\n",
    "UP = 1\n",
    "RIGHT = 2\n",
    "DOWN = 3\n",
    "\n",
    "\n",
    "# Exploration factor\n",
    "epsilon = 0.1\n",
    "\n",
    "# Actions dictionary\n",
    "actions_dict = {\n",
    "    LEFT: 'left',\n",
    "    UP: 'up',\n",
    "    RIGHT: 'right',\n",
    "    DOWN: 'down',\n",
    "}\n",
    "\n",
    "num_actions = len(actions_dict)\n"
   ]
  },
  {
   "cell_type": "markdown",
   "metadata": {},
   "source": [
    "The sample code block and output below show creating a maze object and performing one action (DOWN), which returns the reward. The resulting updated environment is visualized."
   ]
  },
  {
   "cell_type": "code",
   "execution_count": 5,
   "metadata": {},
   "outputs": [
    {
     "name": "stdout",
     "output_type": "stream",
     "text": [
      "reward= -0.04\n"
     ]
    },
    {
     "data": {
      "text/plain": [
       "<matplotlib.image.AxesImage at 0x1a002323f88>"
      ]
     },
     "execution_count": 5,
     "metadata": {},
     "output_type": "execute_result"
    },
    {
     "data": {
      "image/png": "[encoded data removed]",
      "text/plain": [
       "<Figure size 432x288 with 1 Axes>"
      ]
     },
     "metadata": {
      "needs_background": "light"
     },
     "output_type": "display_data"
    }
   ],
   "source": [
    "qmaze = TreasureMaze(maze)\n",
    "canvas, reward, game_over = qmaze.act(DOWN)\n",
    "print(\"reward=\", reward)\n",
    "show(qmaze)"
   ]
  },
  {
   "cell_type": "markdown",
   "metadata": {},
   "source": [
    "This function simulates a full game based on the provided trained model. The other parameters include the TreasureMaze object and the starting position of the pirate."
   ]
  },
  {
   "cell_type": "code",
   "execution_count": 6,
   "metadata": {},
   "outputs": [],
   "source": [
    "def play_game(model, qmaze, pirate_cell):\n",
    "    qmaze.reset(pirate_cell)\n",
    "    envstate = qmaze.observe()\n",
    "    while True:\n",
    "        prev_envstate = envstate\n",
    "        # get next action\n",
    "        q = model.predict(prev_envstate)\n",
    "        action = np.argmax(q[0])\n",
    "\n",
    "        # apply action, get rewards and new state\n",
    "        envstate, reward, game_status = qmaze.act(action)\n",
    "        if game_status == 'win':\n",
    "            return True\n",
    "        elif game_status == 'lose':\n",
    "            return False"
   ]
  },
  {
   "cell_type": "markdown",
   "metadata": {},
   "source": [
    "This function helps you to determine whether the pirate can win any game at all. If your maze is not well designed, the pirate may not win any game at all. In this case, your training would not yield any result. The provided maze in this notebook ensures that there is a path to win and you can run this method to check."
   ]
  },
  {
   "cell_type": "code",
   "execution_count": 7,
   "metadata": {},
   "outputs": [],
   "source": [
    "def completion_check(model, qmaze):\n",
    "    for cell in qmaze.free_cells:\n",
    "        if not qmaze.valid_actions(cell):\n",
    "            return False\n",
    "        if not play_game(model, qmaze, cell):\n",
    "            return False\n",
    "    return True"
   ]
  },
  {
   "cell_type": "markdown",
   "metadata": {},
   "source": [
    "The code you have been given in this block will build the neural network model. Review the code and note the number of layers, as well as the activation, optimizer, and loss functions that are used to train the model."
   ]
  },
  {
   "cell_type": "code",
   "execution_count": 8,
   "metadata": {},
   "outputs": [],
   "source": [
    "def build_model(maze):\n",
    "    model = Sequential()\n",
    "    model.add(Dense(maze.size, input_shape=(maze.size,)))\n",
    "    model.add(PReLU())\n",
    "    model.add(Dense(maze.size))\n",
    "    model.add(PReLU())\n",
    "    model.add(Dense(num_actions))\n",
    "    model.compile(optimizer='adam', loss='mse')\n",
    "    return model"
   ]
  },
  {
   "cell_type": "markdown",
   "metadata": {},
   "source": [
    "# #TODO: Complete the Q-Training Algorithm Code Block\n",
    "\n",
    "This is your deep Q-learning implementation. The goal of your deep Q-learning implementation is to find the best possible navigation sequence that results in reaching the treasure cell while maximizing the reward. In your implementation, you need to determine the optimal number of epochs to achieve a 100% win rate.\n",
    "\n",
    "You will need to complete the section starting with #pseudocode. The pseudocode has been included for you."
   ]
  },
  {
   "cell_type": "code",
   "execution_count": null,
   "metadata": {},
   "outputs": [],
   "source": [
    "import datetime\n",
    "import numpy as np\n",
    "import random\n",
    "\n",
    "def qtrain(model, maze, **opt):\n",
    "    global epsilon\n",
    "    \n",
    "    # Extract options\n",
    "    n_epoch = opt.get('n_epoch', 15000)\n",
    "    max_memory = opt.get('max_memory', 1000)\n",
    "    data_size = opt.get('data_size', 50)\n",
    "\n",
    "    # Initialize game environment and experience replay\n",
    "    qmaze = TreasureMaze(maze)\n",
    "    experience = GameExperience(model, max_memory=max_memory)\n",
    "    \n",
    "    # Initialize variables\n",
    "    win_history = []\n",
    "    hsize = qmaze.maze.size // 2\n",
    "    win_rate = 0.0\n",
    "    \n",
    "    start_time = datetime.datetime.now()\n",
    "    \n",
    "    # Loop through epochs\n",
    "    for epoch in range(n_epoch):\n",
    "        print('\\nEpoch:', epoch)\n",
    "        \n",
    "        # Choose a random starting cell for the agent\n",
    "        agent_free_cell = np.random.randint(0, high=7, size=2)\n",
    "        qmaze.reset(agent_free_cell)\n",
    "        envstate = qmaze.observe()\n",
    "        \n",
    "        loss = 0\n",
    "        n_episodes = 0\n",
    "        \n",
    "        # Loop while the game is not over\n",
    "        while qmaze.game_status() == 'not_over':\n",
    "            previous_envstate = envstate\n",
    "            valid_actions = qmaze.valid_actions()\n",
    "            \n",
    "            # Choose an action using epsilon-greedy strategy\n",
    "            if np.random.rand() < epsilon:\n",
    "                action = random.choice(valid_actions)\n",
    "            else:\n",
    "                action = np.argmax(experience.predict(envstate))\n",
    "            \n",
    "            # Perform the chosen action in the environment\n",
    "            envstate, reward, game_status = qmaze.act(action)\n",
    "            n_episodes += 1\n",
    "            \n",
    "            # Store the episode in experience replay\n",
    "            episode = [previous_envstate, action, reward, envstate, game_status]\n",
    "            experience.remember(episode)\n",
    "            \n",
    "            # Train the model using experience replay data\n",
    "            inputs, targets = experience.get_data()\n",
    "            history = model.fit(inputs, targets, epochs=8, batch_size=24, verbose=0)\n",
    "            loss = np.mean(history.history['loss'])\n",
    "            \n",
    "            # Update win_history and win_rate\n",
    "            if episode[4] == 'win':\n",
    "                win_history.append(1)\n",
    "            elif episode[4] == 'lose':\n",
    "                win_history.append(0)\n",
    "            \n",
    "            if win_history:\n",
    "                win_rate = sum(win_history) / len(win_history)\n",
    "                \n",
    "            # calculate win/loss to check for max and stop program\n",
    "            # break the loop if the episode is over\n",
    "            if episode[4] in ['win', 'lose']:\n",
    "                break\n",
    "        \n",
    "        # Check if win rate is above epsilon and model passes completion check\n",
    "        if win_rate > epsilon and completion_check(model, qmaze):\n",
    "            print('Win rate larger than Epsilon Now')\n",
    "            print('completion_check() passed')\n",
    "        \n",
    "        # Calculate elapsed time and print epoch statistics\n",
    "        dt = datetime.datetime.now() - start_time\n",
    "        t = format_time(dt.total_seconds())\n",
    "        template = \"Epoch: {:03d}/{:d} | Loss: {:.4f} | Episodes: {:d} | Win rate: {:.3f} | Time: {}\"\n",
    "        print(template.format(epoch, n_epoch-1, loss, n_episodes, win_rate, t))\n",
    "        \n",
    "        # Update epsilon and check for 100% win rate\n",
    "        if win_rate > 0.9:\n",
    "            epsilon = 0.05\n",
    "        if sum(win_history[-hsize:]) == hsize and completion_check(model, qmaze):\n",
    "            print(\"Reached 100% win rate at epoch:\", epoch)\n",
    "            break\n",
    "    \n",
    "    # Calculate total training time\n",
    "    dt = datetime.datetime.now() - start_time\n",
    "    seconds = dt.total_seconds()\n",
    "    t = format_time(seconds)\n",
    "\n",
    "    print(\"n_epoch: %d, max_mem: %d, data: %d, time: %s\" % (epoch, max_memory, data_size, t))\n",
    "    return seconds\n",
    "\n",
    "def format_time(seconds):\n",
    "    if seconds < 400:\n",
    "        return \"%.1f seconds\" % seconds\n",
    "    elif seconds < 4000:\n",
    "        return \"%.2f minutes\" % (seconds / 60.0)\n",
    "    else:\n",
    "        return \"%.2f hours\" % (seconds / 3600.0)\n"
   ]
  },
  {
   "cell_type": "markdown",
   "metadata": {},
   "source": [
    "## Test Your Model\n",
    "\n",
    "Now we will start testing the deep Q-learning implementation. To begin, select **Cell**, then **Run All** from the menu bar. This will run your notebook. As it runs, you should see output begin to appear beneath the next few cells. The code below creates an instance of TreasureMaze."
   ]
  },
  {
   "cell_type": "code",
   "execution_count": 10,
   "metadata": {},
   "outputs": [
    {
     "data": {
      "text/plain": [
       "<matplotlib.image.AxesImage at 0x1a0033b5b88>"
      ]
     },
     "execution_count": 10,
     "metadata": {},
     "output_type": "execute_result"
    },
    {
     "data": {
      "image/png": "[encoded data removed]",
      "text/plain": [
       "<Figure size 432x288 with 1 Axes>"
      ]
     },
     "metadata": {
      "needs_background": "light"
     },
     "output_type": "display_data"
    }
   ],
   "source": [
    "qmaze = TreasureMaze(maze)\n",
    "show(qmaze)"
   ]
  },
  {
   "cell_type": "markdown",
   "metadata": {},
   "source": [
    "In the next code block, you will build your model and train it using deep Q-learning. Note: This step takes several minutes to fully run."
   ]
  },
  {
   "cell_type": "code",
   "execution_count": 11,
   "metadata": {
    "scrolled": true
   },
   "outputs": [
    {
     "name": "stdout",
     "output_type": "stream",
     "text": [
      "\n",
      "Epoch: 0\n",
      "Epoch: 000/14999 | Loss: 0.0000 | Episodes: 134 | Win rate: 0.000 | Time: 4.0 seconds\n",
      "\n",
      "Epoch: 1\n",
      "Epoch: 001/14999 | Loss: 0.0001 | Episodes: 131 | Win rate: 0.000 | Time: 6.8 seconds\n",
      "\n",
      "Epoch: 2\n",
      "Epoch: 002/14999 | Loss: 0.0022 | Episodes: 147 | Win rate: 0.000 | Time: 10.0 seconds\n",
      "\n",
      "Epoch: 3\n",
      "Epoch: 003/14999 | Loss: 0.0008 | Episodes: 144 | Win rate: 0.000 | Time: 13.1 seconds\n",
      "\n",
      "Epoch: 4\n",
      "Epoch: 004/14999 | Loss: 0.0001 | Episodes: 138 | Win rate: 0.000 | Time: 16.1 seconds\n",
      "\n",
      "Epoch: 5\n",
      "Epoch: 005/14999 | Loss: 0.0010 | Episodes: 19 | Win rate: 0.167 | Time: 16.6 seconds\n",
      "\n",
      "Epoch: 6\n",
      "Epoch: 006/14999 | Loss: 0.0012 | Episodes: 16 | Win rate: 0.286 | Time: 17.0 seconds\n",
      "\n",
      "Epoch: 7\n",
      "Epoch: 007/14999 | Loss: 0.0001 | Episodes: 30 | Win rate: 0.375 | Time: 17.7 seconds\n",
      "\n",
      "Epoch: 8\n",
      "Epoch: 008/14999 | Loss: 0.0018 | Episodes: 155 | Win rate: 0.333 | Time: 21.1 seconds\n",
      "\n",
      "Epoch: 9\n",
      "Epoch: 009/14999 | Loss: 0.0010 | Episodes: 137 | Win rate: 0.300 | Time: 24.0 seconds\n",
      "\n",
      "Epoch: 10\n",
      "Epoch: 010/14999 | Loss: 0.0010 | Episodes: 139 | Win rate: 0.273 | Time: 27.1 seconds\n",
      "\n",
      "Epoch: 11\n",
      "Epoch: 011/14999 | Loss: 0.0004 | Episodes: 14 | Win rate: 0.333 | Time: 27.5 seconds\n",
      "\n",
      "Epoch: 12\n",
      "Epoch: 012/14999 | Loss: 0.0006 | Episodes: 136 | Win rate: 0.308 | Time: 30.6 seconds\n",
      "\n",
      "Epoch: 13\n",
      "Epoch: 013/14999 | Loss: 0.0001 | Episodes: 133 | Win rate: 0.286 | Time: 33.5 seconds\n",
      "\n",
      "Epoch: 14\n",
      "Epoch: 014/14999 | Loss: 0.0001 | Episodes: 153 | Win rate: 0.267 | Time: 37.0 seconds\n",
      "\n",
      "Epoch: 15\n",
      "Epoch: 015/14999 | Loss: 0.0001 | Episodes: 144 | Win rate: 0.250 | Time: 40.2 seconds\n",
      "\n",
      "Epoch: 16\n",
      "Epoch: 016/14999 | Loss: 0.0010 | Episodes: 23 | Win rate: 0.294 | Time: 40.8 seconds\n",
      "\n",
      "Epoch: 17\n",
      "Epoch: 017/14999 | Loss: 0.0016 | Episodes: 138 | Win rate: 0.278 | Time: 44.2 seconds\n",
      "\n",
      "Epoch: 18\n",
      "Epoch: 018/14999 | Loss: 0.0002 | Episodes: 142 | Win rate: 0.263 | Time: 47.2 seconds\n",
      "\n",
      "Epoch: 19\n",
      "Epoch: 019/14999 | Loss: 0.0009 | Episodes: 139 | Win rate: 0.250 | Time: 50.3 seconds\n",
      "\n",
      "Epoch: 20\n",
      "Epoch: 020/14999 | Loss: 0.0010 | Episodes: 138 | Win rate: 0.238 | Time: 53.6 seconds\n",
      "\n",
      "Epoch: 21\n",
      "Epoch: 021/14999 | Loss: 0.0006 | Episodes: 142 | Win rate: 0.227 | Time: 56.8 seconds\n",
      "\n",
      "Epoch: 22\n",
      "Epoch: 022/14999 | Loss: 0.0004 | Episodes: 143 | Win rate: 0.217 | Time: 59.8 seconds\n",
      "\n",
      "Epoch: 23\n",
      "Epoch: 023/14999 | Loss: 0.0009 | Episodes: 144 | Win rate: 0.208 | Time: 63.2 seconds\n",
      "\n",
      "Epoch: 24\n",
      "Epoch: 024/14999 | Loss: 0.0302 | Episodes: 4 | Win rate: 0.240 | Time: 63.4 seconds\n",
      "\n",
      "Epoch: 25\n",
      "Epoch: 025/14999 | Loss: 0.0009 | Episodes: 139 | Win rate: 0.231 | Time: 66.5 seconds\n",
      "\n",
      "Epoch: 26\n",
      "Epoch: 026/14999 | Loss: 0.0005 | Episodes: 115 | Win rate: 0.259 | Time: 69.1 seconds\n",
      "\n",
      "Epoch: 27\n",
      "Epoch: 027/14999 | Loss: 0.0010 | Episodes: 138 | Win rate: 0.250 | Time: 72.1 seconds\n",
      "\n",
      "Epoch: 28\n",
      "Epoch: 028/14999 | Loss: 0.0008 | Episodes: 18 | Win rate: 0.276 | Time: 72.5 seconds\n",
      "\n",
      "Epoch: 29\n",
      "Epoch: 029/14999 | Loss: 0.0003 | Episodes: 144 | Win rate: 0.267 | Time: 75.9 seconds\n",
      "\n",
      "Epoch: 30\n",
      "Epoch: 030/14999 | Loss: 0.0001 | Episodes: 143 | Win rate: 0.258 | Time: 79.1 seconds\n",
      "\n",
      "Epoch: 31\n",
      "Epoch: 031/14999 | Loss: 0.0006 | Episodes: 35 | Win rate: 0.281 | Time: 80.0 seconds\n",
      "\n",
      "Epoch: 32\n",
      "Epoch: 032/14999 | Loss: 0.0009 | Episodes: 9 | Win rate: 0.303 | Time: 80.3 seconds\n",
      "\n",
      "Epoch: 33\n",
      "Epoch: 033/14999 | Loss: 0.0004 | Episodes: 141 | Win rate: 0.294 | Time: 83.6 seconds\n",
      "\n",
      "Epoch: 34\n",
      "Epoch: 034/14999 | Loss: 0.0009 | Episodes: 149 | Win rate: 0.286 | Time: 87.0 seconds\n",
      "\n",
      "Epoch: 35\n",
      "Epoch: 035/14999 | Loss: 0.0010 | Episodes: 12 | Win rate: 0.306 | Time: 87.3 seconds\n",
      "\n",
      "Epoch: 36\n",
      "Epoch: 036/14999 | Loss: 0.0021 | Episodes: 151 | Win rate: 0.297 | Time: 91.0 seconds\n",
      "\n",
      "Epoch: 37\n",
      "Epoch: 037/14999 | Loss: 0.0016 | Episodes: 144 | Win rate: 0.289 | Time: 94.3 seconds\n",
      "\n",
      "Epoch: 38\n",
      "Epoch: 038/14999 | Loss: 0.0009 | Episodes: 9 | Win rate: 0.308 | Time: 94.6 seconds\n",
      "\n",
      "Epoch: 39\n",
      "Epoch: 039/14999 | Loss: 0.0010 | Episodes: 144 | Win rate: 0.300 | Time: 97.9 seconds\n",
      "\n",
      "Epoch: 40\n",
      "Epoch: 040/14999 | Loss: 0.0009 | Episodes: 144 | Win rate: 0.293 | Time: 101.3 seconds\n",
      "\n",
      "Epoch: 41\n",
      "Epoch: 041/14999 | Loss: 0.0019 | Episodes: 114 | Win rate: 0.310 | Time: 104.0 seconds\n",
      "\n",
      "Epoch: 42\n",
      "Epoch: 042/14999 | Loss: 0.0015 | Episodes: 145 | Win rate: 0.302 | Time: 107.2 seconds\n",
      "\n",
      "Epoch: 43\n",
      "Epoch: 043/14999 | Loss: 0.0017 | Episodes: 152 | Win rate: 0.295 | Time: 110.5 seconds\n",
      "\n",
      "Epoch: 44\n",
      "Epoch: 044/14999 | Loss: 0.0019 | Episodes: 143 | Win rate: 0.289 | Time: 113.7 seconds\n",
      "\n",
      "Epoch: 45\n",
      "Epoch: 045/14999 | Loss: 0.0012 | Episodes: 103 | Win rate: 0.304 | Time: 116.0 seconds\n",
      "\n",
      "Epoch: 46\n",
      "Epoch: 046/14999 | Loss: 0.0007 | Episodes: 37 | Win rate: 0.319 | Time: 116.8 seconds\n",
      "\n",
      "Epoch: 47\n",
      "Epoch: 047/14999 | Loss: 0.0009 | Episodes: 63 | Win rate: 0.333 | Time: 118.2 seconds\n",
      "\n",
      "Epoch: 48\n",
      "Epoch: 048/14999 | Loss: 0.0007 | Episodes: 144 | Win rate: 0.327 | Time: 121.3 seconds\n",
      "\n",
      "Epoch: 49\n",
      "Epoch: 049/14999 | Loss: 0.0010 | Episodes: 20 | Win rate: 0.340 | Time: 121.8 seconds\n",
      "\n",
      "Epoch: 50\n",
      "Epoch: 050/14999 | Loss: 0.0009 | Episodes: 145 | Win rate: 0.333 | Time: 124.9 seconds\n",
      "\n",
      "Epoch: 51\n",
      "Epoch: 051/14999 | Loss: 0.0013 | Episodes: 6 | Win rate: 0.346 | Time: 125.1 seconds\n",
      "\n",
      "Epoch: 52\n",
      "Epoch: 052/14999 | Loss: 0.0000 | Episodes: 16 | Win rate: 0.358 | Time: 125.5 seconds\n",
      "\n",
      "Epoch: 53\n",
      "Epoch: 053/14999 | Loss: 0.0013 | Episodes: 39 | Win rate: 0.370 | Time: 126.5 seconds\n",
      "\n",
      "Epoch: 54\n",
      "Epoch: 054/14999 | Loss: 0.0013 | Episodes: 31 | Win rate: 0.382 | Time: 127.3 seconds\n",
      "\n",
      "Epoch: 55\n",
      "Epoch: 055/14999 | Loss: 0.0011 | Episodes: 145 | Win rate: 0.375 | Time: 130.5 seconds\n",
      "\n",
      "Epoch: 56\n",
      "Epoch: 056/14999 | Loss: 0.0016 | Episodes: 160 | Win rate: 0.386 | Time: 134.0 seconds\n",
      "\n",
      "Epoch: 57\n",
      "Epoch: 057/14999 | Loss: 0.0015 | Episodes: 8 | Win rate: 0.397 | Time: 134.3 seconds\n",
      "\n",
      "Epoch: 58\n",
      "Epoch: 058/14999 | Loss: 0.0023 | Episodes: 22 | Win rate: 0.407 | Time: 134.8 seconds\n",
      "\n",
      "Epoch: 59\n",
      "Epoch: 059/14999 | Loss: 0.0002 | Episodes: 25 | Win rate: 0.417 | Time: 135.5 seconds\n",
      "\n",
      "Epoch: 60\n",
      "Epoch: 060/14999 | Loss: 0.0016 | Episodes: 21 | Win rate: 0.426 | Time: 136.0 seconds\n",
      "\n",
      "Epoch: 61\n",
      "Epoch: 061/14999 | Loss: 0.0015 | Episodes: 60 | Win rate: 0.435 | Time: 137.5 seconds\n",
      "\n",
      "Epoch: 62\n",
      "Epoch: 062/14999 | Loss: 0.0015 | Episodes: 81 | Win rate: 0.444 | Time: 139.5 seconds\n",
      "\n",
      "Epoch: 63\n",
      "Epoch: 063/14999 | Loss: 0.0019 | Episodes: 14 | Win rate: 0.453 | Time: 139.8 seconds\n",
      "\n",
      "Epoch: 64\n",
      "Epoch: 064/14999 | Loss: 0.0004 | Episodes: 158 | Win rate: 0.462 | Time: 143.5 seconds\n",
      "\n",
      "Epoch: 65\n",
      "Epoch: 065/14999 | Loss: 0.0003 | Episodes: 21 | Win rate: 0.470 | Time: 144.0 seconds\n",
      "\n",
      "Epoch: 66\n",
      "Epoch: 066/14999 | Loss: 0.0012 | Episodes: 21 | Win rate: 0.478 | Time: 144.5 seconds\n",
      "\n",
      "Epoch: 67\n",
      "Epoch: 067/14999 | Loss: 0.0016 | Episodes: 46 | Win rate: 0.485 | Time: 145.6 seconds\n",
      "\n",
      "Epoch: 68\n",
      "Epoch: 068/14999 | Loss: 0.0004 | Episodes: 22 | Win rate: 0.493 | Time: 146.1 seconds\n",
      "\n",
      "Epoch: 69\n",
      "Epoch: 069/14999 | Loss: 0.0025 | Episodes: 8 | Win rate: 0.500 | Time: 146.4 seconds\n",
      "\n",
      "Epoch: 70\n",
      "Epoch: 070/14999 | Loss: 0.0031 | Episodes: 75 | Win rate: 0.507 | Time: 148.1 seconds\n",
      "\n",
      "Epoch: 71\n",
      "Epoch: 071/14999 | Loss: 0.0014 | Episodes: 58 | Win rate: 0.514 | Time: 149.5 seconds\n",
      "\n",
      "Epoch: 72\n",
      "Epoch: 072/14999 | Loss: 0.0007 | Episodes: 7 | Win rate: 0.521 | Time: 149.8 seconds\n",
      "\n",
      "Epoch: 73\n",
      "Epoch: 073/14999 | Loss: 0.0009 | Episodes: 68 | Win rate: 0.527 | Time: 151.4 seconds\n",
      "\n",
      "Epoch: 74\n",
      "Epoch: 074/14999 | Loss: 0.0013 | Episodes: 19 | Win rate: 0.533 | Time: 152.0 seconds\n",
      "\n",
      "Epoch: 75\n",
      "Epoch: 075/14999 | Loss: 0.0010 | Episodes: 3 | Win rate: 0.539 | Time: 152.2 seconds\n",
      "\n",
      "Epoch: 76\n",
      "Epoch: 076/14999 | Loss: 0.0015 | Episodes: 70 | Win rate: 0.545 | Time: 153.8 seconds\n",
      "\n",
      "Epoch: 77\n",
      "Epoch: 077/14999 | Loss: 0.0008 | Episodes: 95 | Win rate: 0.551 | Time: 155.9 seconds\n",
      "\n",
      "Epoch: 78\n",
      "Epoch: 078/14999 | Loss: 0.0005 | Episodes: 11 | Win rate: 0.557 | Time: 156.2 seconds\n",
      "\n",
      "Epoch: 79\n",
      "Epoch: 079/14999 | Loss: 0.0010 | Episodes: 122 | Win rate: 0.562 | Time: 159.0 seconds\n",
      "\n",
      "Epoch: 80\n",
      "Epoch: 080/14999 | Loss: 0.0012 | Episodes: 33 | Win rate: 0.568 | Time: 159.9 seconds\n",
      "\n",
      "Epoch: 81\n",
      "Epoch: 081/14999 | Loss: 0.0019 | Episodes: 17 | Win rate: 0.573 | Time: 160.3 seconds\n",
      "\n",
      "Epoch: 82\n",
      "Epoch: 082/14999 | Loss: 0.0007 | Episodes: 47 | Win rate: 0.578 | Time: 161.4 seconds\n",
      "\n",
      "Epoch: 83\n",
      "Epoch: 083/14999 | Loss: 0.0011 | Episodes: 48 | Win rate: 0.583 | Time: 162.5 seconds\n",
      "\n",
      "Epoch: 84\n",
      "Epoch: 084/14999 | Loss: 0.0010 | Episodes: 30 | Win rate: 0.588 | Time: 163.2 seconds\n",
      "\n",
      "Epoch: 85\n",
      "Epoch: 085/14999 | Loss: 0.0018 | Episodes: 9 | Win rate: 0.593 | Time: 163.5 seconds\n",
      "\n",
      "Epoch: 86\n",
      "Epoch: 086/14999 | Loss: 0.0008 | Episodes: 52 | Win rate: 0.598 | Time: 164.6 seconds\n",
      "\n",
      "Epoch: 87\n",
      "Epoch: 087/14999 | Loss: 0.0011 | Episodes: 38 | Win rate: 0.602 | Time: 165.5 seconds\n",
      "\n",
      "Epoch: 88\n",
      "Epoch: 088/14999 | Loss: 0.0010 | Episodes: 5 | Win rate: 0.607 | Time: 165.8 seconds\n",
      "\n",
      "Epoch: 89\n",
      "Epoch: 089/14999 | Loss: 0.0019 | Episodes: 33 | Win rate: 0.611 | Time: 166.6 seconds\n",
      "\n",
      "Epoch: 90\n",
      "Epoch: 090/14999 | Loss: 0.0018 | Episodes: 5 | Win rate: 0.615 | Time: 166.9 seconds\n",
      "\n",
      "Epoch: 91\n",
      "Epoch: 091/14999 | Loss: 0.0013 | Episodes: 3 | Win rate: 0.620 | Time: 167.1 seconds\n",
      "\n",
      "Epoch: 92\n",
      "Epoch: 092/14999 | Loss: 0.0012 | Episodes: 11 | Win rate: 0.624 | Time: 167.5 seconds\n",
      "\n",
      "Epoch: 93\n",
      "Epoch: 093/14999 | Loss: 0.0005 | Episodes: 42 | Win rate: 0.628 | Time: 168.5 seconds\n",
      "\n",
      "Epoch: 94\n",
      "Epoch: 094/14999 | Loss: 0.0006 | Episodes: 7 | Win rate: 0.632 | Time: 168.8 seconds\n",
      "\n",
      "Epoch: 95\n",
      "Epoch: 095/14999 | Loss: 0.0005 | Episodes: 5 | Win rate: 0.635 | Time: 169.0 seconds\n",
      "\n",
      "Epoch: 96\n",
      "Epoch: 096/14999 | Loss: 0.0014 | Episodes: 20 | Win rate: 0.639 | Time: 169.6 seconds\n",
      "\n",
      "Epoch: 97\n",
      "Epoch: 097/14999 | Loss: 0.0011 | Episodes: 7 | Win rate: 0.643 | Time: 169.9 seconds\n",
      "\n",
      "Epoch: 98\n",
      "Epoch: 098/14999 | Loss: 0.0022 | Episodes: 56 | Win rate: 0.646 | Time: 171.2 seconds\n",
      "\n",
      "Epoch: 99\n",
      "Epoch: 099/14999 | Loss: 0.0010 | Episodes: 90 | Win rate: 0.650 | Time: 173.4 seconds\n",
      "\n",
      "Epoch: 100\n",
      "Epoch: 100/14999 | Loss: 0.0016 | Episodes: 10 | Win rate: 0.653 | Time: 174.3 seconds\n",
      "\n",
      "Epoch: 101\n",
      "Epoch: 101/14999 | Loss: 0.0013 | Episodes: 40 | Win rate: 0.657 | Time: 175.8 seconds\n",
      "\n",
      "Epoch: 102\n",
      "Epoch: 102/14999 | Loss: 0.0004 | Episodes: 97 | Win rate: 0.660 | Time: 178.2 seconds\n",
      "\n",
      "Epoch: 103\n",
      "Epoch: 103/14999 | Loss: 0.0013 | Episodes: 5 | Win rate: 0.663 | Time: 178.5 seconds\n",
      "\n",
      "Epoch: 104\n",
      "Epoch: 104/14999 | Loss: 0.0011 | Episodes: 9 | Win rate: 0.667 | Time: 178.8 seconds\n",
      "\n",
      "Epoch: 105\n",
      "Epoch: 105/14999 | Loss: 0.0013 | Episodes: 26 | Win rate: 0.670 | Time: 179.5 seconds\n",
      "\n",
      "Epoch: 106\n",
      "Epoch: 106/14999 | Loss: 0.0022 | Episodes: 25 | Win rate: 0.673 | Time: 180.1 seconds\n",
      "\n",
      "Epoch: 107\n",
      "Epoch: 107/14999 | Loss: 0.0005 | Episodes: 21 | Win rate: 0.676 | Time: 180.7 seconds\n",
      "\n",
      "Epoch: 108\n",
      "Epoch: 108/14999 | Loss: 0.0017 | Episodes: 33 | Win rate: 0.679 | Time: 182.0 seconds\n",
      "\n",
      "Epoch: 109\n",
      "Epoch: 109/14999 | Loss: 0.0022 | Episodes: 11 | Win rate: 0.682 | Time: 182.8 seconds\n",
      "\n",
      "Epoch: 110\n",
      "Epoch: 110/14999 | Loss: 0.0018 | Episodes: 23 | Win rate: 0.685 | Time: 183.5 seconds\n",
      "\n",
      "Epoch: 111\n",
      "Epoch: 111/14999 | Loss: 0.0012 | Episodes: 4 | Win rate: 0.688 | Time: 183.7 seconds\n",
      "\n",
      "Epoch: 112\n",
      "Epoch: 112/14999 | Loss: 0.0018 | Episodes: 5 | Win rate: 0.690 | Time: 184.0 seconds\n",
      "\n",
      "Epoch: 113\n",
      "Epoch: 113/14999 | Loss: 0.0012 | Episodes: 53 | Win rate: 0.693 | Time: 185.2 seconds\n",
      "\n",
      "Epoch: 114\n",
      "Epoch: 114/14999 | Loss: 0.0011 | Episodes: 36 | Win rate: 0.696 | Time: 186.1 seconds\n",
      "\n",
      "Epoch: 115\n",
      "Epoch: 115/14999 | Loss: 0.0005 | Episodes: 59 | Win rate: 0.698 | Time: 187.4 seconds\n",
      "\n",
      "Epoch: 116\n",
      "Epoch: 116/14999 | Loss: 0.0018 | Episodes: 11 | Win rate: 0.701 | Time: 187.7 seconds\n",
      "\n",
      "Epoch: 117\n",
      "Epoch: 117/14999 | Loss: 0.0004 | Episodes: 24 | Win rate: 0.703 | Time: 188.4 seconds\n",
      "\n",
      "Epoch: 118\n",
      "Epoch: 118/14999 | Loss: 0.0018 | Episodes: 44 | Win rate: 0.706 | Time: 189.4 seconds\n",
      "\n",
      "Epoch: 119\n",
      "Epoch: 119/14999 | Loss: 0.0015 | Episodes: 34 | Win rate: 0.708 | Time: 190.3 seconds\n",
      "\n",
      "Epoch: 120\n",
      "Epoch: 120/14999 | Loss: 0.0012 | Episodes: 15 | Win rate: 0.711 | Time: 190.7 seconds\n",
      "\n",
      "Epoch: 121\n",
      "Epoch: 121/14999 | Loss: 0.0005 | Episodes: 39 | Win rate: 0.713 | Time: 191.7 seconds\n",
      "\n",
      "Epoch: 122\n",
      "Epoch: 122/14999 | Loss: 0.0007 | Episodes: 90 | Win rate: 0.715 | Time: 193.8 seconds\n",
      "\n",
      "Epoch: 123\n",
      "Win rate larger than Epsilon Now\n",
      "completion_check() passed\n",
      "Epoch: 123/14999 | Loss: 0.0012 | Episodes: 19 | Win rate: 0.718 | Time: 194.8 seconds\n",
      "Reached 100% win rate at epoch: 123\n",
      "n_epoch: 123, max_mem: 512, data: 32, time: 195.2 seconds\n"
     ]
    },
    {
     "data": {
      "text/plain": [
       "195.182348"
      ]
     },
     "execution_count": 11,
     "metadata": {},
     "output_type": "execute_result"
    }
   ],
   "source": [
    "model = build_model(maze)\n",
    "qtrain(model, maze, epochs=1000, max_memory=8*maze.size, data_size=32)"
   ]
  },
  {
   "cell_type": "markdown",
   "metadata": {},
   "source": [
    "This cell will check to see if the model passes the completion check. Note: This could take several minutes."
   ]
  },
  {
   "cell_type": "code",
   "execution_count": 12,
   "metadata": {},
   "outputs": [
    {
     "data": {
      "text/plain": [
       "<matplotlib.image.AxesImage at 0x1a00335e048>"
      ]
     },
     "execution_count": 12,
     "metadata": {},
     "output_type": "execute_result"
    },
    {
     "data": {
      "image/png": "[encoded data removed]",
      "text/plain": [
       "<Figure size 432x288 with 1 Axes>"
      ]
     },
     "metadata": {
      "needs_background": "light"
     },
     "output_type": "display_data"
    }
   ],
   "source": [
    "completion_check(model, qmaze)\n",
    "show(qmaze)"
   ]
  },
  {
   "cell_type": "markdown",
   "metadata": {},
   "source": [
    "This cell will test your model for one game. It will start the pirate at the top-left corner and run play_game. The agent should find a path from the starting position to the target (treasure). The treasure is located in the bottom-right corner."
   ]
  },
  {
   "cell_type": "code",
   "execution_count": 13,
   "metadata": {},
   "outputs": [
    {
     "data": {
      "text/plain": [
       "<matplotlib.image.AxesImage at 0x1a006f1bdc8>"
      ]
     },
     "execution_count": 13,
     "metadata": {},
     "output_type": "execute_result"
    },
    {
     "data": {
      "image/png": "[encoded data removed]",
      "text/plain": [
       "<Figure size 432x288 with 1 Axes>"
      ]
     },
     "metadata": {
      "needs_background": "light"
     },
     "output_type": "display_data"
    }
   ],
   "source": [
    "pirate_start = (0, 0)\n",
    "play_game(model, qmaze, pirate_start)\n",
    "show(qmaze)"
   ]
  },
  {
   "cell_type": "code",
   "execution_count": 14,
   "metadata": {},
   "outputs": [],
   "source": [
    "## Save and Submit Your Work\n",
    "#After you have finished creating the code for your notebook, save your work. Make sure that your notebook contains your name in the filename (e.g. Doe_Jane_ProjectTwo.ipynb). This will help your instructor access and grade your work easily. Download a copy of your IPYNB file and submit it to Brightspace. Refer to the Jupyter Notebook in Apporto Tutorial if you need help with these tasks."
   ]
  }
 ],
 "metadata": {
  "kernelspec": {
   "display_name": "Python 3",
   "language": "python",
   "name": "python3"
  },
  "language_info": {
   "codemirror_mode": {
    "name": "ipython",
    "version": 3
   },
   "file_extension": ".py",
   "mimetype": "text/x-python",
   "name": "python",
   "nbconvert_exporter": "python",
   "pygments_lexer": "ipython3",
   "version": "3.7.4"
  }
 },
 "nbformat": 4,
 "nbformat_minor": 2
}
